{
 "cells": [
  {
   "cell_type": "code",
   "execution_count": null,
   "id": "de08e536-7b71-4ace-89a1-2ed2f0caec30",
   "metadata": {},
   "outputs": [],
   "source": []
  }
 ],
 "metadata": {
  "kernelspec": {
   "display_name": "",
   "name": ""
  },
  "language_info": {
   "name": ""
  }
 },
 "nbformat": 4,
 "nbformat_minor": 5
}
